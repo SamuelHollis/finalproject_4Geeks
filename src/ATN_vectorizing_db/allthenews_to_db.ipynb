{
 "cells": [
  {
   "cell_type": "code",
   "execution_count": null,
   "metadata": {},
   "outputs": [],
   "source": [
    "import pandas as pd\n",
    "\n",
    "# df_politics_top = pd.read_csv(r\"C:\\Users\\34616\\Documents\\4GEEKS\\datos_gordos\\reddit\\Scraping_results\\politics_top_v1.csv\")"
   ]
  },
  {
   "cell_type": "code",
   "execution_count": null,
   "metadata": {},
   "outputs": [],
   "source": [
    "import os\n",
    "from sqlalchemy import create_engine\n",
    "from sqlalchemy import text\n",
    "import pandas as pd\n",
    "from dotenv import load_dotenv\n",
    "\n",
    "\n",
    "# load the .env file variables\n",
    "load_dotenv()\n",
    "\n",
    "# 1) Connect to the database here using the SQLAlchemy's create_engine function\n",
    "def connect():\n",
    "    global engine # Esto nos permite usar una variable global llamada \"engine\"\n",
    "    # Un \"connection string\" es básicamente una cadena que contiene todas las credenciales de la base de datos juntas\n",
    "    connection_string = f\"postgresql://{os.getenv('DB_USER')}:{os.getenv('DB_PASSWORD')}@{os.getenv('DB_HOST')}/{os.getenv('DB_NAME')}?\"\n",
    "    print(\"Starting the connection...\")\n",
    "    engine = create_engine(connection_string)\n",
    "    engine.connect()\n",
    "    return engine\n",
    "\n",
    "connect()\n",
    "\n",
    "# # Insert the DataFrame in chunks to the database alternatively\n",
    "\n",
    "# table_name = 'politics_top_v1'\n",
    "# chunk_size = 100000  # 100,000 rows per chunk for optimized performance\n",
    "# for i in range(0, len(df_politics_top), chunk_size):\n",
    "#     df_chunk = df_politics_top.iloc[i:i+chunk_size]\n",
    "#     df_chunk.to_sql(table_name, engine, if_exists='append', index=False)\n",
    "\n",
    "# df_politics_top.to_sql('politics_top_v1', engine, if_exists='replace', index=False)\n",
    "\n",
    "# print(\"DataFrame has been successfully transferred to the database!\")"
   ]
  },
  {
   "cell_type": "code",
   "execution_count": null,
   "metadata": {},
   "outputs": [],
   "source": [
    "import pandas as pd\n",
    "# 4) Use pandas to print one of the tables as dataframes using read_sql function\n",
    "table_name = 'politics_top_v1'\n",
    "df = pd.read_sql_table(table_name ,engine.connect())\n",
    "print(df.head())\n",
    "\n",
    "\n",
    "# 5) cerrar la sesión\n",
    "with engine.connect() as conn:\n",
    "    conn.close()"
   ]
  }
 ],
 "metadata": {
  "kernelspec": {
   "display_name": "Python 3",
   "language": "python",
   "name": "python3"
  },
  "language_info": {
   "name": "python",
   "version": "3.11.1"
  }
 },
 "nbformat": 4,
 "nbformat_minor": 2
}

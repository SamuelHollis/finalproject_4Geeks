{
    "cells": [
        {
            "cell_type": "markdown",
            "metadata": {},
            "source": [
                "## EDA:"
            ]
        },
        {
            "cell_type": "code",
            "execution_count": 1,
            "metadata": {},
            "outputs": [],
            "source": [
                "import pandas as pd\n",
                "import numpy as np\n",
                "import matplotlib.pyplot as plt\n",
                "import seaborn as sns\n",
                "import re"
            ]
        },
        {
            "cell_type": "code",
            "execution_count": 3,
            "metadata": {},
            "outputs": [],
            "source": [
                "reddit_ds = pd.read_csv(r'C:\\Users\\10and\\OneDrive\\Documentos\\GitHub\\4geeks_finalproject_modeling\\data\\raw\\all_hotscrape_v2(elbueno).csv')"
            ]
        },
        {
            "cell_type": "code",
            "execution_count": 4,
            "metadata": {},
            "outputs": [
                {
                    "data": {
                        "text/html": [
                            "<div>\n",
                            "<style scoped>\n",
                            "    .dataframe tbody tr th:only-of-type {\n",
                            "        vertical-align: middle;\n",
                            "    }\n",
                            "\n",
                            "    .dataframe tbody tr th {\n",
                            "        vertical-align: top;\n",
                            "    }\n",
                            "\n",
                            "    .dataframe thead th {\n",
                            "        text-align: right;\n",
                            "    }\n",
                            "</style>\n",
                            "<table border=\"1\" class=\"dataframe\">\n",
                            "  <thead>\n",
                            "    <tr style=\"text-align: right;\">\n",
                            "      <th></th>\n",
                            "      <th>text</th>\n",
                            "      <th>submission_type</th>\n",
                            "      <th>subreddit</th>\n",
                            "      <th>label</th>\n",
                            "    </tr>\n",
                            "  </thead>\n",
                            "  <tbody>\n",
                            "    <tr>\n",
                            "      <th>0</th>\n",
                            "      <td>Media: Nobody knows what kamala is about\\n\\nMe...</td>\n",
                            "      <td>comment</td>\n",
                            "      <td>politics</td>\n",
                            "      <td>kamala</td>\n",
                            "    </tr>\n",
                            "    <tr>\n",
                            "      <th>1</th>\n",
                            "      <td>NYT breaking news that Netanyahu has agreed to...</td>\n",
                            "      <td>comment</td>\n",
                            "      <td>politics</td>\n",
                            "      <td>trumper</td>\n",
                            "    </tr>\n",
                            "    <tr>\n",
                            "      <th>2</th>\n",
                            "      <td>I love how the stock crash 2 weeks ago was HUG...</td>\n",
                            "      <td>comment</td>\n",
                            "      <td>politics</td>\n",
                            "      <td>trump</td>\n",
                            "    </tr>\n",
                            "    <tr>\n",
                            "      <th>3</th>\n",
                            "      <td>I was thinking this morning about how freaking...</td>\n",
                            "      <td>comment</td>\n",
                            "      <td>politics</td>\n",
                            "      <td>trumper</td>\n",
                            "    </tr>\n",
                            "    <tr>\n",
                            "      <th>4</th>\n",
                            "      <td>Conservative in a purple state. I'm voting for...</td>\n",
                            "      <td>comment</td>\n",
                            "      <td>politics</td>\n",
                            "      <td>trump</td>\n",
                            "    </tr>\n",
                            "  </tbody>\n",
                            "</table>\n",
                            "</div>"
                        ],
                        "text/plain": [
                            "                                                text submission_type  \\\n",
                            "0  Media: Nobody knows what kamala is about\\n\\nMe...         comment   \n",
                            "1  NYT breaking news that Netanyahu has agreed to...         comment   \n",
                            "2  I love how the stock crash 2 weeks ago was HUG...         comment   \n",
                            "3  I was thinking this morning about how freaking...         comment   \n",
                            "4  Conservative in a purple state. I'm voting for...         comment   \n",
                            "\n",
                            "  subreddit    label  \n",
                            "0  politics   kamala  \n",
                            "1  politics  trumper  \n",
                            "2  politics    trump  \n",
                            "3  politics  trumper  \n",
                            "4  politics    trump  "
                        ]
                    },
                    "execution_count": 4,
                    "metadata": {},
                    "output_type": "execute_result"
                }
            ],
            "source": [
                "reddit_ds.head(5)"
            ]
        },
        {
            "cell_type": "code",
            "execution_count": 5,
            "metadata": {},
            "outputs": [
                {
                    "name": "stdout",
                    "output_type": "stream",
                    "text": [
                        "<class 'pandas.core.frame.DataFrame'>\n",
                        "RangeIndex: 187613 entries, 0 to 187612\n",
                        "Data columns (total 4 columns):\n",
                        " #   Column           Non-Null Count   Dtype \n",
                        "---  ------           --------------   ----- \n",
                        " 0   text             187613 non-null  object\n",
                        " 1   submission_type  187613 non-null  object\n",
                        " 2   subreddit        187613 non-null  object\n",
                        " 3   label            187613 non-null  object\n",
                        "dtypes: object(4)\n",
                        "memory usage: 5.7+ MB\n"
                    ]
                }
            ],
            "source": [
                "reddit_ds.info()"
            ]
        },
        {
            "cell_type": "code",
            "execution_count": 6,
            "metadata": {},
            "outputs": [
                {
                    "data": {
                        "text/plain": [
                            "(187613, 4)"
                        ]
                    },
                    "execution_count": 6,
                    "metadata": {},
                    "output_type": "execute_result"
                }
            ],
            "source": [
                "reddit_ds.shape"
            ]
        },
        {
            "cell_type": "code",
            "execution_count": 7,
            "metadata": {},
            "outputs": [
                {
                    "data": {
                        "text/html": [
                            "<div>\n",
                            "<style scoped>\n",
                            "    .dataframe tbody tr th:only-of-type {\n",
                            "        vertical-align: middle;\n",
                            "    }\n",
                            "\n",
                            "    .dataframe tbody tr th {\n",
                            "        vertical-align: top;\n",
                            "    }\n",
                            "\n",
                            "    .dataframe thead th {\n",
                            "        text-align: right;\n",
                            "    }\n",
                            "</style>\n",
                            "<table border=\"1\" class=\"dataframe\">\n",
                            "  <thead>\n",
                            "    <tr style=\"text-align: right;\">\n",
                            "      <th></th>\n",
                            "      <th>text</th>\n",
                            "      <th>submission_type</th>\n",
                            "      <th>subreddit</th>\n",
                            "      <th>label</th>\n",
                            "    </tr>\n",
                            "  </thead>\n",
                            "  <tbody>\n",
                            "    <tr>\n",
                            "      <th>0</th>\n",
                            "      <td>Media: Nobody knows what kamala is about\\n\\nMe...</td>\n",
                            "      <td>comment</td>\n",
                            "      <td>politics</td>\n",
                            "      <td>kamala</td>\n",
                            "    </tr>\n",
                            "    <tr>\n",
                            "      <th>1</th>\n",
                            "      <td>NYT breaking news that Netanyahu has agreed to...</td>\n",
                            "      <td>comment</td>\n",
                            "      <td>politics</td>\n",
                            "      <td>trumper</td>\n",
                            "    </tr>\n",
                            "    <tr>\n",
                            "      <th>2</th>\n",
                            "      <td>I love how the stock crash 2 weeks ago was HUG...</td>\n",
                            "      <td>comment</td>\n",
                            "      <td>politics</td>\n",
                            "      <td>trump</td>\n",
                            "    </tr>\n",
                            "    <tr>\n",
                            "      <th>3</th>\n",
                            "      <td>I was thinking this morning about how freaking...</td>\n",
                            "      <td>comment</td>\n",
                            "      <td>politics</td>\n",
                            "      <td>trumper</td>\n",
                            "    </tr>\n",
                            "    <tr>\n",
                            "      <th>4</th>\n",
                            "      <td>Conservative in a purple state. I'm voting for...</td>\n",
                            "      <td>comment</td>\n",
                            "      <td>politics</td>\n",
                            "      <td>trump</td>\n",
                            "    </tr>\n",
                            "    <tr>\n",
                            "      <th>...</th>\n",
                            "      <td>...</td>\n",
                            "      <td>...</td>\n",
                            "      <td>...</td>\n",
                            "      <td>...</td>\n",
                            "    </tr>\n",
                            "    <tr>\n",
                            "      <th>187608</th>\n",
                            "      <td>That would apply if Trump hadn’t won and lost....</td>\n",
                            "      <td>comment</td>\n",
                            "      <td>Republican</td>\n",
                            "      <td>trump</td>\n",
                            "    </tr>\n",
                            "    <tr>\n",
                            "      <th>187609</th>\n",
                            "      <td>How many pardons has trump issued?</td>\n",
                            "      <td>comment</td>\n",
                            "      <td>Republican</td>\n",
                            "      <td>trump</td>\n",
                            "    </tr>\n",
                            "    <tr>\n",
                            "      <th>187610</th>\n",
                            "      <td>Well Trumps the felon</td>\n",
                            "      <td>comment</td>\n",
                            "      <td>Republican</td>\n",
                            "      <td>trump</td>\n",
                            "    </tr>\n",
                            "    <tr>\n",
                            "      <th>187611</th>\n",
                            "      <td>Should post this all over the subs who keep bl...</td>\n",
                            "      <td>comment</td>\n",
                            "      <td>Republican</td>\n",
                            "      <td>kamala</td>\n",
                            "    </tr>\n",
                            "    <tr>\n",
                            "      <th>187612</th>\n",
                            "      <td>Kamala loves felons. Should be a great debate.</td>\n",
                            "      <td>comment</td>\n",
                            "      <td>Republican</td>\n",
                            "      <td>kamala</td>\n",
                            "    </tr>\n",
                            "  </tbody>\n",
                            "</table>\n",
                            "<p>187613 rows × 4 columns</p>\n",
                            "</div>"
                        ],
                        "text/plain": [
                            "                                                     text submission_type  \\\n",
                            "0       Media: Nobody knows what kamala is about\\n\\nMe...         comment   \n",
                            "1       NYT breaking news that Netanyahu has agreed to...         comment   \n",
                            "2       I love how the stock crash 2 weeks ago was HUG...         comment   \n",
                            "3       I was thinking this morning about how freaking...         comment   \n",
                            "4       Conservative in a purple state. I'm voting for...         comment   \n",
                            "...                                                   ...             ...   \n",
                            "187608  That would apply if Trump hadn’t won and lost....         comment   \n",
                            "187609                 How many pardons has trump issued?         comment   \n",
                            "187610                              Well Trumps the felon         comment   \n",
                            "187611  Should post this all over the subs who keep bl...         comment   \n",
                            "187612     Kamala loves felons. Should be a great debate.         comment   \n",
                            "\n",
                            "         subreddit    label  \n",
                            "0         politics   kamala  \n",
                            "1         politics  trumper  \n",
                            "2         politics    trump  \n",
                            "3         politics  trumper  \n",
                            "4         politics    trump  \n",
                            "...            ...      ...  \n",
                            "187608  Republican    trump  \n",
                            "187609  Republican    trump  \n",
                            "187610  Republican    trump  \n",
                            "187611  Republican   kamala  \n",
                            "187612  Republican   kamala  \n",
                            "\n",
                            "[187613 rows x 4 columns]"
                        ]
                    },
                    "execution_count": 7,
                    "metadata": {},
                    "output_type": "execute_result"
                }
            ],
            "source": [
                "reddit_ds.drop_duplicates()"
            ]
        },
        {
            "cell_type": "code",
            "execution_count": 8,
            "metadata": {},
            "outputs": [],
            "source": [
                "# Creamos la siguiente función para poder visualizar la distribución de la longitud de los textos\n",
                "def safe_len(x):\n",
                "    if isinstance(x, str):\n",
                "        return len(x)\n",
                "    else:\n",
                "        return 0"
            ]
        },
        {
            "cell_type": "code",
            "execution_count": 9,
            "metadata": {},
            "outputs": [],
            "source": [
                "# Aplicamos la función a la columna 'text' para crear una nueva columna con la longitud\n",
                "reddit_ds['text'] = reddit_ds['text'].apply(safe_len)"
            ]
        },
        {
            "cell_type": "code",
            "execution_count": 10,
            "metadata": {},
            "outputs": [
                {
                    "name": "stdout",
                    "output_type": "stream",
                    "text": [
                        "text\n",
                        "<class 'int'>    187613\n",
                        "Name: count, dtype: int64\n"
                    ]
                }
            ],
            "source": [
                "# Revisa los tipos de datos en la columna 'text'\n",
                "print(reddit_ds['text'].apply(type).value_counts())"
            ]
        },
        {
            "cell_type": "code",
            "execution_count": 11,
            "metadata": {},
            "outputs": [
                {
                    "data": {
                        "image/png": "[encoded data removed]",
                        "text/plain": [
                            "<Figure size 1000x800 with 1 Axes>"
                        ]
                    },
                    "metadata": {},
                    "output_type": "display_data"
                }
            ],
            "source": [
                "# Visualizamos la distribución de la longitud de los textos\n",
                "plt.figure(figsize=(10, 8))\n",
                "reddit_ds['text'].plot(kind='hist', bins=50, title='Distribution of Text Length')\n",
                "# Establecemos el límite del eje X\n",
                "#plt.xlim(0, 25000)\n",
                "# Ajustamos el límite del eje Y si es necesario\n",
                "plt.ylim(0, 80000)  # Ajusta este valor según la cantidad de artículos que tengas\n",
                "plt.show()"
            ]
        },
        {
            "cell_type": "code",
            "execution_count": 13,
            "metadata": {},
            "outputs": [
                {
                    "name": "stdout",
                    "output_type": "stream",
                    "text": [
                        "El comentario con menor extensión es de 11 carácteres.\n",
                        "El comentario con mayor extensión es de 9681 carácteres.\n",
                        "La media de extensión por caracteres en la columna 'text' es de 273.0.\n"
                    ]
                }
            ],
            "source": [
                "# Nos aseguramos de que la columna 'text' contiene textos y no números:\n",
                "#reddit_ds['text'] = reddit_ds['text'].apply(lambda x: len(x) if isinstance(x, str) else 0)\n",
                "# Ahora podemos calcular los valores mínimos, máximos y la media de las longitudes:\n",
                "min_length = reddit_ds['text'].min()\n",
                "max_length = reddit_ds['text'].max()\n",
                "median_length = reddit_ds['text'].median()\n",
                "print(f'El comentario con menor extensión es de {min_length} carácteres.')\n",
                "print(f'El comentario con mayor extensión es de {max_length} carácteres.')\n",
                "print(f\"La media de extensión por caracteres en la columna 'text' es de {median_length}.\")"
            ]
        }
    ],
    "metadata": {
        "kernelspec": {
            "display_name": "Python 3.8.13 64-bit ('3.8.13')",
            "language": "python",
            "name": "python3"
        },
        "language_info": {
            "codemirror_mode": {
                "name": "ipython",
                "version": 3
            },
            "file_extension": ".py",
            "mimetype": "text/x-python",
            "name": "python",
            "nbconvert_exporter": "python",
            "pygments_lexer": "ipython3",
            "version": "3.8.19"
        },
        "orig_nbformat": 4,
        "vscode": {
            "interpreter": {
                "hash": "110cc1dee26208153f2972f08a2ad52b6a56238dc66d48e87fb757ef2996db56"
            }
        }
    },
    "nbformat": 4,
    "nbformat_minor": 2
}

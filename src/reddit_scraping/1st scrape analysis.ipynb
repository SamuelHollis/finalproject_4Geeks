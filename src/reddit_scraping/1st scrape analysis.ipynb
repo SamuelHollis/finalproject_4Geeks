{
 "cells": [
  {
   "cell_type": "code",
   "execution_count": 4,
   "metadata": {},
   "outputs": [],
   "source": [
    "import pandas as pd\n",
    "import numpy as np\n"
   ]
  },
  {
   "cell_type": "code",
   "execution_count": 5,
   "metadata": {},
   "outputs": [
    {
     "data": {
      "text/html": [
       "<div>\n",
       "<style scoped>\n",
       "    .dataframe tbody tr th:only-of-type {\n",
       "        vertical-align: middle;\n",
       "    }\n",
       "\n",
       "    .dataframe tbody tr th {\n",
       "        vertical-align: top;\n",
       "    }\n",
       "\n",
       "    .dataframe thead th {\n",
       "        text-align: right;\n",
       "    }\n",
       "</style>\n",
       "<table border=\"1\" class=\"dataframe\">\n",
       "  <thead>\n",
       "    <tr style=\"text-align: right;\">\n",
       "      <th></th>\n",
       "      <th>text</th>\n",
       "      <th>submission_type</th>\n",
       "      <th>subreddit</th>\n",
       "      <th>label</th>\n",
       "    </tr>\n",
       "  </thead>\n",
       "  <tbody>\n",
       "    <tr>\n",
       "      <th>0</th>\n",
       "      <td>Media: Nobody knows what kamala is about\\n\\nMe...</td>\n",
       "      <td>comment</td>\n",
       "      <td>politics</td>\n",
       "      <td>kamala</td>\n",
       "    </tr>\n",
       "    <tr>\n",
       "      <th>1</th>\n",
       "      <td>NYT breaking news that Netanyahu has agreed to...</td>\n",
       "      <td>comment</td>\n",
       "      <td>politics</td>\n",
       "      <td>trumper</td>\n",
       "    </tr>\n",
       "    <tr>\n",
       "      <th>2</th>\n",
       "      <td>I love how the stock crash 2 weeks ago was HUG...</td>\n",
       "      <td>comment</td>\n",
       "      <td>politics</td>\n",
       "      <td>trump</td>\n",
       "    </tr>\n",
       "    <tr>\n",
       "      <th>3</th>\n",
       "      <td>I was thinking this morning about how freaking...</td>\n",
       "      <td>comment</td>\n",
       "      <td>politics</td>\n",
       "      <td>trumper</td>\n",
       "    </tr>\n",
       "    <tr>\n",
       "      <th>4</th>\n",
       "      <td>Conservative in a purple state. I'm voting for...</td>\n",
       "      <td>comment</td>\n",
       "      <td>politics</td>\n",
       "      <td>trump</td>\n",
       "    </tr>\n",
       "  </tbody>\n",
       "</table>\n",
       "</div>"
      ],
      "text/plain": [
       "                                                text submission_type  \\\n",
       "0  Media: Nobody knows what kamala is about\\n\\nMe...         comment   \n",
       "1  NYT breaking news that Netanyahu has agreed to...         comment   \n",
       "2  I love how the stock crash 2 weeks ago was HUG...         comment   \n",
       "3  I was thinking this morning about how freaking...         comment   \n",
       "4  Conservative in a purple state. I'm voting for...         comment   \n",
       "\n",
       "  subreddit    label  \n",
       "0  politics   kamala  \n",
       "1  politics  trumper  \n",
       "2  politics    trump  \n",
       "3  politics  trumper  \n",
       "4  politics    trump  "
      ]
     },
     "execution_count": 5,
     "metadata": {},
     "output_type": "execute_result"
    }
   ],
   "source": [
    "df = pd.read_csv(r\"C:\\Users\\34616\\Documents\\4GEEKS\\datos_gordos\\reddit\\Scraping_results\\all_hotscrape_v2p10000.csv\")\n",
    "df.head()"
   ]
  },
  {
   "cell_type": "code",
   "execution_count": 6,
   "metadata": {},
   "outputs": [
    {
     "data": {
      "text/plain": [
       "submission_type\n",
       "comment    184950\n",
       "title        2725\n",
       "Name: count, dtype: int64"
      ]
     },
     "execution_count": 6,
     "metadata": {},
     "output_type": "execute_result"
    }
   ],
   "source": [
    "df['submission_type'].value_counts()"
   ]
  },
  {
   "cell_type": "code",
   "execution_count": 7,
   "metadata": {},
   "outputs": [
    {
     "data": {
      "text/plain": [
       "subreddit\n",
       "PoliticalDiscussion    68638\n",
       "ModeratePolitics       67399\n",
       "politics               26372\n",
       "Democrats               7846\n",
       "Republican              5388\n",
       "Ask_Politics            4561\n",
       "Liberal                 4280\n",
       "Conservative            3191\n",
       "Name: count, dtype: int64"
      ]
     },
     "execution_count": 7,
     "metadata": {},
     "output_type": "execute_result"
    }
   ],
   "source": [
    "df['subreddit'].value_counts()"
   ]
  },
  {
   "cell_type": "code",
   "execution_count": 8,
   "metadata": {},
   "outputs": [
    {
     "data": {
      "text/plain": [
       "label\n",
       "trump      85382\n",
       "trumper    85165\n",
       "kamala     11718\n",
       "kamaler     5410\n",
       "Name: count, dtype: int64"
      ]
     },
     "execution_count": 8,
     "metadata": {},
     "output_type": "execute_result"
    }
   ],
   "source": [
    "df['label'].value_counts()"
   ]
  },
  {
   "cell_type": "code",
   "execution_count": 9,
   "metadata": {},
   "outputs": [
    {
     "name": "stdout",
     "output_type": "stream",
     "text": [
      "Trump related: 90.87%\n",
      "Kamala related: 9.13%\n"
     ]
    }
   ],
   "source": [
    "kamalers = df['label'] == 'kamaler'\n",
    "kamalas = df['label'] == 'kamala'\n",
    "kams = kamalers.sum() + kamalas.sum()\n",
    "\n",
    "trumps = df['label'] == 'trump'\n",
    "trumpers = df['label'] == 'trumper'\n",
    "trums = trumps.sum() + trumpers.sum()\n",
    "\n",
    "print(f\"Trump related: {round((trums / len(df))*100, 2)}%\")\n",
    "print(f\"Kamala related: {round((kams / len(df))*100, 2)}%\")"
   ]
  },
  {
   "cell_type": "code",
   "execution_count": null,
   "metadata": {},
   "outputs": [],
   "source": []
  },
  {
   "cell_type": "code",
   "execution_count": 10,
   "metadata": {},
   "outputs": [],
   "source": [
    "# filtros trump\n",
    "trump_keywords = [\n",
    "    'donald trump', 'trump', 'donald', 'donaldtrump', \n",
    "    'orange', 'duck', 'donaldduck', 'donald duck', \n",
    "    'donnybaby', 'donnyboy', 'donnybrook', 'trumpinator', \n",
    "    'trumpamaniac', 'trumpastrophie', 'trumpocalypse', \n",
    "    'trumpenstein', 'trumpletoes', 'tricky trump', \n",
    "    'pumpkin', 'corn', 'president trump', \n",
    "    'drumpf', 'the donald', 'mr. trump', 'potus'\n",
    "    ]\n",
    "trump_keywords = [keyword.lower() for keyword in trump_keywords]\n",
    "\n",
    "# filtros trumpers\n",
    "trumpers_keywords = [\n",
    "    'mike pence', 'pence', 'mike', 'mikepence',\n",
    "    'ron desantis', 'desantis', 'ron', 'rondesantis',\n",
    "    'marjorie taylor greene', 'mtg', 'greene', 'marjorie',\n",
    "    'lauren boebert', 'boebert', 'lauren',\n",
    "    'ted cruz', 'cruz', 'ted', 'tedcruz',\n",
    "    'mitch mcconnell', 'mcconnell', 'mitch', 'mcconnell',\n",
    "    'lindsey graham', 'graham', 'lindsey', 'lindseygraham',\n",
    "    'kevin mccarthy', 'mccarthy', 'kevin', 'kevinmccarthy',\n",
    "    'rudy giuliani', 'giuliani', 'rudy', 'rudygiuliani',\n",
    "    'steve bannon', 'bannon', 'steve', 'stevebannon',\n",
    "    'michael flynn', 'flynn', 'michael', 'michaelflynn',\n",
    "    'roger stone', 'roger', 'stone', 'rogerstone',\n",
    "    'matt gaetz', 'gaetz', 'matt', 'mattgaetz',\n",
    "    'sean hannity', 'hannity', 'sean', 'seanhannity',\n",
    "    ]\n",
    "trumpers_keywords = [keyword.lower() for keyword in trumpers_keywords]\n",
    "\n",
    "# filtros kamala\n",
    "kamala_keywords = [\n",
    "    'kamala harris', 'kamala', 'harris', 'kamalaharris', \n",
    "    'vice president harris', 'vp harris', 'kammie', \n",
    "    'kammy', 'kamalalal', 'kamalita', 'mrs. harris', 'ms. harris'\n",
    "    'Comrade Kamala', 'Crazy Kamala', 'Laffin Kamala', 'Lying Kamala Harris', 'Kamabla'\n",
    "    ]\n",
    "kamala_keywords = [keyword.lower() for keyword in kamala_keywords]\n",
    "\n",
    "# filtros kamalers\n",
    "kamalers_keywords = [\n",
    "\n",
    "    'nancy pelosi', 'pelosi', 'nancy', 'nancypelosi',\n",
    "    'chuck schumer', 'schumer', 'chuck', 'chuckschumer',\n",
    "    'elizabeth warren', 'warren', 'elizabeth', 'elizabethwarren',\n",
    "    'bernie sanders', 'sanders', 'bernie', 'berniesanders',\n",
    "    'aoc', 'alexandria ocasio-cortez', 'ocasio-cortez', 'alexandria',\n",
    "    'pete buttigieg', 'buttigieg', 'pete', 'petebuttigieg',\n",
    "    'gavin newsom', 'newsom', 'gavin', 'gavinnewsom',\n",
    "    'cory booker', 'booker', 'cory', 'corybooker',\n",
    "    'stacey abrams', 'abrams', 'stacey', 'staceyabrams',\n",
    "    'hillary', 'michelle obama', 'michelle', 'michelleobama',\n",
    "    'keisha lance bottoms', 'keisha', 'lance bottoms', 'keisha lance'\n",
    "]\n",
    "kamalers_keywords = [keyword.lower() for keyword in kamalers_keywords]"
   ]
  },
  {
   "cell_type": "code",
   "execution_count": 11,
   "metadata": {},
   "outputs": [
    {
     "name": "stdout",
     "output_type": "stream",
     "text": [
      "17128\n",
      "170547\n",
      "Kamala was mentioned 17147 times in trump-labled text\n",
      "Trump was mentioned 0 times in kamala-labled text\n"
     ]
    }
   ],
   "source": [
    "trump = df[df['label'].isin(['trump', 'trumper'])]\n",
    "kammy = df[df['label'].isin(['kamala', 'kamaler'])]\n",
    "print(len(kammy))\n",
    "print(len(trump))\n",
    "\n",
    "kamala_in_trump = 0\n",
    "trump_in_kamala = 0\n",
    "\n",
    "for text in trump['text']:\n",
    "    if 'kamala' in text or 'harris' in text or 'she' in text:\n",
    "        kamala_in_trump +=1\n",
    "\n",
    "for text in kammy['text']:\n",
    "    if 'trump' in text or 'donald' in text:\n",
    "        trump_in_kamala +=1\n",
    "\n",
    "print(f\"Kamala was mentioned {kamala_in_trump} times in trump-labled text\")\n",
    "print(f\"Trump was mentioned {trump_in_kamala} times in kamala-labled text\")"
   ]
  },
  {
   "cell_type": "code",
   "execution_count": 12,
   "metadata": {},
   "outputs": [
    {
     "name": "stdout",
     "output_type": "stream",
     "text": [
      "                                                text submission_type  \\\n",
      "0  Media: Nobody knows what kamala is about\\n\\nMe...         comment   \n",
      "1  NYT breaking news that Netanyahu has agreed to...         comment   \n",
      "2  I love how the stock crash 2 weeks ago was HUG...         comment   \n",
      "3  I was thinking this morning about how freaking...         comment   \n",
      "4  Conservative in a purple state. I'm voting for...         comment   \n",
      "\n",
      "  subreddit    label  party_mention  \n",
      "0  politics   kamala              0  \n",
      "1  politics  trumper              0  \n",
      "2  politics    trump              0  \n",
      "3  politics  trumper              0  \n",
      "4  politics    trump              0  \n"
     ]
    }
   ],
   "source": [
    "is_democrats = df['text'].str.contains(r'\\bdemocrat(?:s)?\\b', case=False, na=False)\n",
    "is_republican = df['text'].str.contains(r'\\brepublican(?:s)?\\b', case=False, na=False)\n",
    "\n",
    "df['party_mention'] = (\n",
    "    is_democrats.astype(int) + is_republican.astype(int) *2\n",
    ")\n",
    "\n",
    "# 0 = no mention\n",
    "# 1 = democrats\n",
    "# 2 = republicans\n",
    "# 3 = both\n",
    "\n",
    "print(df.head())"
   ]
  },
  {
   "cell_type": "code",
   "execution_count": 13,
   "metadata": {},
   "outputs": [
    {
     "data": {
      "text/plain": [
       "party_mention\n",
       "0    161128\n",
       "2     11302\n",
       "1      9924\n",
       "3      5321\n",
       "Name: count, dtype: int64"
      ]
     },
     "execution_count": 13,
     "metadata": {},
     "output_type": "execute_result"
    }
   ],
   "source": [
    "df['party_mention'].value_counts()"
   ]
  },
  {
   "cell_type": "code",
   "execution_count": 14,
   "metadata": {},
   "outputs": [
    {
     "name": "stdout",
     "output_type": "stream",
     "text": [
      "2.10.0\n"
     ]
    }
   ],
   "source": [
    "import tensorflow as tf\n",
    "print(tf.__version__)"
   ]
  },
  {
   "cell_type": "code",
   "execution_count": 30,
   "metadata": {},
   "outputs": [
    {
     "name": "stdout",
     "output_type": "stream",
     "text": [
      "Harris refused to debate him on fox 🤷‍♂️\n"
     ]
    }
   ],
   "source": [
    "print(kammy.iloc[88, 0])"
   ]
  }
 ],
 "metadata": {
  "kernelspec": {
   "display_name": "GPU_Chiclanera",
   "language": "python",
   "name": "python3"
  },
  "language_info": {
   "codemirror_mode": {
    "name": "ipython",
    "version": 3
   },
   "file_extension": ".py",
   "mimetype": "text/x-python",
   "name": "python",
   "nbconvert_exporter": "python",
   "pygments_lexer": "ipython3",
   "version": "3.8.19"
  }
 },
 "nbformat": 4,
 "nbformat_minor": 2
}
